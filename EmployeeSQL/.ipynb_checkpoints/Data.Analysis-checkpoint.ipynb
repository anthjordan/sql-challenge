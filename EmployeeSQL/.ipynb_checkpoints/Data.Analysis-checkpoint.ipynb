{
 "cells": [
  {
   "cell_type": "code",
   "execution_count": null,
   "id": "26ce0274-93c9-4057-b888-776fbc2d421f",
   "metadata": {},
   "outputs": [],
   "source": [
    "-- 1 List the employee number, last name, first name, sex, and salary of each employee.\n",
    "\n",
    "SELECT e.emp_no, e.first_name, e.last_name, e.sex, s.salary\n",
    "FROM employees e\n",
    "JOIN salaries s on e.emp_no = s.emp_no"
   ]
  },
  {
   "cell_type": "code",
   "execution_count": null,
   "id": "8e2e7828-32be-48b8-a1fe-c23e2834a123",
   "metadata": {},
   "outputs": [],
   "source": [
    "-- 2 List the first name, last name, and hire date for the employees who were hired in 1986.\n",
    "\n",
    "SELECT first_name, last_name, sex, hire_date\n",
    "FROM employees\n",
    "WHERE hire_date >= '1986-01-01' AND hire_date <= '1986-12-31';"
   ]
  },
  {
   "cell_type": "code",
   "execution_count": null,
   "id": "2fc6b9f1-7142-47e3-8ad8-91684090726b",
   "metadata": {},
   "outputs": [],
   "source": [
    "-- 3 List the manager of each department along with their department number, department name, employee number, last name, and first name.\n",
    "\n",
    "SELECT e.first_name, e.last_name, dm.emp_no, d.dept_name, d.dept_no  \n",
    "FROM dept_manager dm\n",
    "JOIN employees e ON dm.emp_no = e.emp_no\n",
    "JOIN departments d ON dm.dept_no = d.dept_no;"
   ]
  },
  {
   "cell_type": "code",
   "execution_count": null,
   "id": "0c4245ef-f672-4163-81d7-cf63528d0313",
   "metadata": {},
   "outputs": [],
   "source": [
    "-- 4 List the department number for each employee along with that employee’s employee number, last name, first name, and department name.\n",
    "\n",
    "SELECT e.emp_no, e.last_name, e.first_name, d.dept_no, dept_name\n",
    "FROM departments d\n",
    "JOIN dept_emp de ON d.dept_no = de.dept_no\n",
    "JOIN employees e ON de.emp_no = e.emp_no"
   ]
  },
  {
   "cell_type": "code",
   "execution_count": null,
   "id": "da4e97ab-fb67-4d8f-a10f-92847de11b25",
   "metadata": {},
   "outputs": [],
   "source": [
    "-- 5 List first name, last name, and sex of each employee whose first name is Hercules and whose last name begins with the letter B.\n",
    "\n",
    "SELECT first_name, last_name, sex\n",
    "FROM employees\n",
    "WHERE first_name = 'Hercules' AND last_name LIKE 'B%';"
   ]
  },
  {
   "cell_type": "code",
   "execution_count": null,
   "id": "73bf615e-d082-4a21-9b47-17ad2c829d9f",
   "metadata": {},
   "outputs": [],
   "source": [
    "-- 6 List each employee in the Sales department, including their employee number, last name, and first name.\n",
    "\n",
    "SELECT d.dept_name, e.emp_no, e.last_name, e.first_name\n",
    "FROM departments d\n",
    "JOIN dept_emp de on d.dept_no = de.dept_no\n",
    "JOIN employees e on de.emp_no = e.emp_no\n",
    "WHERE d.dept_name = 'Sales'"
   ]
  },
  {
   "cell_type": "code",
   "execution_count": null,
   "id": "88d31e62-4f76-4cab-878f-cb201cc3e46e",
   "metadata": {},
   "outputs": [],
   "source": [
    "--7 List each employee in the Sales and Development departments, including their employee number, last name, first name, and department name.\n",
    "\n",
    "SELECT d.dept_name, e.emp_no, e.last_name, e.first_name\n",
    "FROM departments d\n",
    "JOIN dept_emp de on d.dept_no = de.dept_no\n",
    "JOIN employees e on de.emp_no = e.emp_no\n",
    "WHERE d.dept_name = 'Development' OR d.dept_name = 'Sales'"
   ]
  },
  {
   "cell_type": "code",
   "execution_count": null,
   "id": "92a25caa-49da-4a74-9be4-df97d395cbef",
   "metadata": {},
   "outputs": [],
   "source": [
    "-- 8 List the frequency counts, in descending order, of all the employee last names (that is, how many employees share each last name).\n",
    "\n",
    "SELECT last_name, COUNT(*) AS frequency\n",
    "FROM employees\n",
    "GROUP BY last_name\n",
    "ORDER BY frequency DESC;"
   ]
  }
 ],
 "metadata": {
  "kernelspec": {
   "display_name": "Python 3 (ipykernel)",
   "language": "python",
   "name": "python3"
  },
  "language_info": {
   "codemirror_mode": {
    "name": "ipython",
    "version": 3
   },
   "file_extension": ".py",
   "mimetype": "text/x-python",
   "name": "python",
   "nbconvert_exporter": "python",
   "pygments_lexer": "ipython3",
   "version": "3.10.9"
  }
 },
 "nbformat": 4,
 "nbformat_minor": 5
}
