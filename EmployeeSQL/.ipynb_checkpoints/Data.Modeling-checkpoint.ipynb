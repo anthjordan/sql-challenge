{
 "cells": [
  {
   "cell_type": "code",
   "execution_count": null,
   "id": "02abd4a9-ee45-4ef4-b150-0796af89e056",
   "metadata": {},
   "outputs": [],
   "source": [
    "-- Exported from QuickDBD: https://www.quickdatabasediagrams.com/\n",
    "-- NOTE! If you have used non-SQL datatypes in your design, you will have to change these here.\n",
    "\n",
    "CREATE TABLE \"departments\" (\n",
    "    \"dept_no\" Varchar(255)   NOT NULL,\n",
    "    \"dept_name\" Varchar(255)   NOT NULL,\n",
    "    CONSTRAINT \"pk_departments\" PRIMARY KEY (\n",
    "        \"dept_no\"\n",
    "     )\n",
    ");"
   ]
  },
  {
   "cell_type": "code",
   "execution_count": null,
   "id": "d724379e-ca24-4ae8-8f64-a1b35891f994",
   "metadata": {},
   "outputs": [],
   "source": [
    "CREATE TABLE \"dept_emp\" (\n",
    "    \"emp_no\" int   NOT NULL,\n",
    "    \"dept_no\" Varchar(255)   NOT NULL,\n",
    "    CONSTRAINT \"pk_dept_emp\" PRIMARY KEY (\n",
    "        \"emp_no\",\"dept_no\"\n",
    "     )\n",
    ");"
   ]
  },
  {
   "cell_type": "code",
   "execution_count": null,
   "id": "90ead98b-f53d-4eb9-8a56-8b535b635d4d",
   "metadata": {},
   "outputs": [],
   "source": [
    "CREATE TABLE \"dept_manager\" (\n",
    "    \"dept_no\" Varchar(255)   NOT NULL,\n",
    "    \"emp_no\" int   NOT NULL,\n",
    "    CONSTRAINT \"pk_dept_manager\" PRIMARY KEY (\n",
    "        \"dept_no\",\"emp_no\"\n",
    "     )\n",
    ");"
   ]
  },
  {
   "cell_type": "code",
   "execution_count": null,
   "id": "69ae01f9-2daf-4d75-a90b-0685fbe2022d",
   "metadata": {},
   "outputs": [],
   "source": [
    "CREATE TABLE \"employees\" (\n",
    "    \"emp_no\" int   NOT NULL,\n",
    "    \"emp_title\" Varchar(255)   NOT NULL,\n",
    "    \"birth_date\" date   NOT NULL,\n",
    "    \"first_name\" Varchar(255)   NOT NULL,\n",
    "    \"last_name\" Varchar(255)   NOT NULL,\n",
    "    \"sex\" Varchar(255)   NOT NULL,\n",
    "    \"hire_date\" date   NOT NULL,\n",
    "    CONSTRAINT \"pk_employees\" PRIMARY KEY (\n",
    "        \"emp_no\"\n",
    "     )\n",
    ");"
   ]
  },
  {
   "cell_type": "code",
   "execution_count": null,
   "id": "5d457930-ceaf-4858-8ae9-b784b7af7e08",
   "metadata": {},
   "outputs": [],
   "source": [
    "CREATE TABLE \"salaries\" (\n",
    "    \"emp_no\" int   NOT NULL,\n",
    "    \"salary\" int   NOT NULL,\n",
    "    CONSTRAINT \"pk_salaries\" PRIMARY KEY (\n",
    "        \"emp_no\"\n",
    "     )\n",
    ");"
   ]
  },
  {
   "cell_type": "code",
   "execution_count": null,
   "id": "b83229c2-3eb3-4efa-abbe-f9edeb3fc4de",
   "metadata": {},
   "outputs": [],
   "source": [
    "CREATE TABLE \"titles\" (\n",
    "    \"title_id\" Varchar(255)   NOT NULL,\n",
    "    \"title\" Varchar(255)   NOT NULL,\n",
    "    CONSTRAINT \"pk_titles\" PRIMARY KEY (\n",
    "        \"title_id\"\n",
    "     )\n",
    ");"
   ]
  },
  {
   "cell_type": "code",
   "execution_count": null,
   "id": "25075c79-c6cc-4304-ad3e-1f4f75d5eefb",
   "metadata": {},
   "outputs": [],
   "source": [
    "-- Linking tables\n",
    "-- Using code made by Quickdatabase \n",
    "\n",
    "ALTER TABLE \"dept_emp\" ADD CONSTRAINT \"fk_dept_emp_emp_no\" FOREIGN KEY(\"emp_no\")\n",
    "REFERENCES \"employees\" (\"emp_no\");\n",
    "\n",
    "ALTER TABLE \"dept_emp\" ADD CONSTRAINT \"fk_dept_emp_dept_no\" FOREIGN KEY(\"dept_no\")\n",
    "REFERENCES \"departments\" (\"dept_no\");\n",
    "\n",
    "ALTER TABLE \"dept_manager\" ADD CONSTRAINT \"fk_dept_manager_dept_no\" FOREIGN KEY(\"dept_no\")\n",
    "REFERENCES \"departments\" (\"dept_no\");\n",
    "\n",
    "ALTER TABLE \"dept_manager\" ADD CONSTRAINT \"fk_dept_manager_emp_no\" FOREIGN KEY(\"emp_no\")\n",
    "REFERENCES \"employees\" (\"emp_no\");\n",
    "\n",
    "ALTER TABLE \"employees\" ADD CONSTRAINT \"fk_employees_emp_title\" FOREIGN KEY(\"emp_title\")\n",
    "REFERENCES \"titles\" (\"title_id\");\n",
    "\n",
    "ALTER TABLE \"salaries\" ADD CONSTRAINT \"fk_salaries_emp_no\" FOREIGN KEY(\"emp_no\")\n",
    "REFERENCES \"employees\" (\"emp_no\");"
   ]
  }
 ],
 "metadata": {
  "kernelspec": {
   "display_name": "Python 3 (ipykernel)",
   "language": "python",
   "name": "python3"
  },
  "language_info": {
   "codemirror_mode": {
    "name": "ipython",
    "version": 3
   },
   "file_extension": ".py",
   "mimetype": "text/x-python",
   "name": "python",
   "nbconvert_exporter": "python",
   "pygments_lexer": "ipython3",
   "version": "3.10.9"
  }
 },
 "nbformat": 4,
 "nbformat_minor": 5
}
