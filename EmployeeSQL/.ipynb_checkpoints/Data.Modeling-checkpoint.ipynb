{
 "cells": [
  {
   "cell_type": "code",
   "execution_count": null,
   "id": "02abd4a9-ee45-4ef4-b150-0796af89e056",
   "metadata": {},
   "outputs": [],
   "source": [
    "-- Exported from QuickDBD: https://www.quickdatabasediagrams.com/\n",
    "-- NOTE! If you have used non-SQL datatypes in your design, you will have to change these here.\n",
    "\n",
    "CREATE TABLE \"departments\" (\n",
    "    \"dept_no\" VARCHAR   NULL,\n",
    "    \"dept_name\" VARCHAR   NULL\n",
    ");"
   ]
  },
  {
   "cell_type": "code",
   "execution_count": null,
   "id": "d724379e-ca24-4ae8-8f64-a1b35891f994",
   "metadata": {},
   "outputs": [],
   "source": [
    "CREATE TABLE \"dept_emp\" (\n",
    "    \"emp_no\" INT   NULL,\n",
    "    \"dept_no\" VARCHAR   NULL\n",
    ");"
   ]
  },
  {
   "cell_type": "code",
   "execution_count": null,
   "id": "90ead98b-f53d-4eb9-8a56-8b535b635d4d",
   "metadata": {},
   "outputs": [],
   "source": [
    "CREATE TABLE \"dept_manager\" (\n",
    "    \"dept_no\" VARCHAR   NULL,\n",
    "    \"emp_no\" INT   NULL\n",
    ");"
   ]
  },
  {
   "cell_type": "code",
   "execution_count": null,
   "id": "69ae01f9-2daf-4d75-a90b-0685fbe2022d",
   "metadata": {},
   "outputs": [],
   "source": [
    "CREATE TABLE \"employees\" (\n",
    "    \"emp_no\" INT   NULL,\n",
    "    \"emp_title_id\" VARCHAR   NULL,\n",
    "    \"birth_date\" VARCHAR   NULL,\n",
    "    \"first_name\" VARCHAR   NULL,\n",
    "    \"last_name\" VARCHAR   NULL,\n",
    "    \"sex\" VARCHAR   NULL,\n",
    "    \"hire_date\" VARCHAR   NULL\n",
    "     )\n",
    ");"
   ]
  },
  {
   "cell_type": "code",
   "execution_count": null,
   "id": "5d457930-ceaf-4858-8ae9-b784b7af7e08",
   "metadata": {},
   "outputs": [],
   "source": [
    "CREATE TABLE \"salaries\" (\n",
    "    \"emp_no\" INT   NULL,\n",
    "    \"salary\" INT   NULL\n",
    ");"
   ]
  },
  {
   "cell_type": "code",
   "execution_count": null,
   "id": "b83229c2-3eb3-4efa-abbe-f9edeb3fc4de",
   "metadata": {},
   "outputs": [],
   "source": [
    "CREATE TABLE \"titles\" (\n",
    "    \"id\" INT   NOT NULL,\n",
    "    \"title_id\" VARCHAR   NULL,\n",
    "    \"title\" VARCHAR   NULL,\n",
    "    CONSTRAINT \"pk_titles\" PRIMARY KEY (\n",
    "        \"id\"\n",
    "     )\n",
    ");"
   ]
  },
  {
   "cell_type": "code",
   "execution_count": null,
   "id": "c02f2f09-df41-4012-b215-e7ad09f8d350",
   "metadata": {},
   "outputs": [],
   "source": [
    "--Need to add Primay Key after importing csv to tables\n",
    "\n",
    "ALTER TABLE titles\n",
    "ADD COLUMN id SERIAL PRIMARY KEY;\n",
    "\n",
    "ALTER TABLE employees\n",
    "ADD COLUMN id SERIAL PRIMARY KEY;"
   ]
  },
  {
   "cell_type": "code",
   "execution_count": null,
   "id": "25075c79-c6cc-4304-ad3e-1f4f75d5eefb",
   "metadata": {},
   "outputs": [],
   "source": [
    "--Linking tables\n",
    "ALTER TABLE \"departments\" ADD CONSTRAINT \"fk_departments_dept_no\" FOREIGN KEY(\"dept_no\")\n",
    "REFERENCES \"dept_emp\" (\"dept_no\");\n",
    "\n",
    "ALTER TABLE \"dept_emp\" ADD CONSTRAINT \"fk_dept_emp_emp_no\" FOREIGN KEY(\"emp_no\")\n",
    "REFERENCES \"employees\" (\"emp_no\");\n",
    "\n",
    "ALTER TABLE \"dept_manager\" ADD CONSTRAINT \"fk_dept_manager_emp_no\" FOREIGN KEY(\"emp_no\")\n",
    "REFERENCES \"employees\" (\"emp_no\");\n",
    "\n",
    "ALTER TABLE \"employees\" ADD CONSTRAINT \"fk_employees_id\" FOREIGN KEY(\"id\")\n",
    "REFERENCES \"titles\" (\"id\");\n",
    "\n",
    "ALTER TABLE \"salaries\" ADD CONSTRAINT \"fk_salaries_emp_no\" FOREIGN KEY(\"emp_no\")\n",
    "REFERENCES \"employees\" (\"emp_no\");"
   ]
  }
 ],
 "metadata": {
  "kernelspec": {
   "display_name": "Python 3 (ipykernel)",
   "language": "python",
   "name": "python3"
  },
  "language_info": {
   "codemirror_mode": {
    "name": "ipython",
    "version": 3
   },
   "file_extension": ".py",
   "mimetype": "text/x-python",
   "name": "python",
   "nbconvert_exporter": "python",
   "pygments_lexer": "ipython3",
   "version": "3.10.9"
  }
 },
 "nbformat": 4,
 "nbformat_minor": 5
}
